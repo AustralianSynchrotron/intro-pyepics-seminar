{
 "cells": [
  {
   "cell_type": "markdown",
   "metadata": {},
   "source": [
    "\n",
    "# Why PyEPICS?\n",
    "\n",
    "## Because Python is awesome!\n",
    "\n",
    "![https://xkcd.com/353/](images/xkcd.png)\n",
    "\n",
    "* Easy to learn\n",
    "* Highly readable syntax\n",
    "* Powerful features"
   ]
  },
  {
   "cell_type": "markdown",
   "metadata": {
    "collapsed": true
   },
   "source": [
    "![PyEPICS](images/pyepics.png)\n",
    "\n",
    "### PyEPICS enables you to...\n",
    "\n",
    "* Quickly access data from EPICS PVs in a usable format\n",
    "* Easily create Python representations of physical devices\n",
    "* Automate interactions with multiple devices in a highly readible form\n",
    "* Avoid the low-level details of the channel access protocol and focus on your application"
   ]
  },
  {
   "cell_type": "markdown",
   "metadata": {},
   "source": [
    "# Installation\n",
    "\n",
    "## Dependencies\n",
    "\n",
    "* EPICS Base shared libraries\n",
    "* Python 2.6+ or 3.2+... ***2.7 or 3.4+ highly recommended***\n",
    "* *Optional:* numpy for nicer array handling\n",
    "\n",
    "In your terminal:\n",
    "\n",
    "```bash\n",
    "pip3 install pyepics\n",
    "```\n",
    "\n",
    "Set the environment variables (eg in your `~/.bashrc` file):\n",
    "\n",
    "```bash\n",
    "export EPICS_BASE=/epics/base\n",
    "export EPICS_HOST_ARCH=linux-x86_64\n",
    "```"
   ]
  },
  {
   "cell_type": "markdown",
   "metadata": {},
   "source": [
    "# Let's get some PVs"
   ]
  },
  {
   "cell_type": "code",
   "execution_count": 2,
   "metadata": {
    "collapsed": true
   },
   "outputs": [],
   "source": [
    "import epics"
   ]
  },
  {
   "cell_type": "code",
   "execution_count": 3,
   "metadata": {
    "collapsed": true
   },
   "outputs": [],
   "source": [
    "temperature_pv = epics.PV('PYEPICS_DEMO:TEMPERATURE')"
   ]
  },
  {
   "cell_type": "code",
   "execution_count": null,
   "metadata": {
    "collapsed": true
   },
   "outputs": [],
   "source": []
  }
 ],
 "metadata": {
  "kernelspec": {
   "display_name": "Python 3",
   "language": "python",
   "name": "python3"
  },
  "language_info": {
   "codemirror_mode": {
    "name": "ipython",
    "version": 3
   },
   "file_extension": ".py",
   "mimetype": "text/x-python",
   "name": "python",
   "nbconvert_exporter": "python",
   "pygments_lexer": "ipython3",
   "version": "3.5.1"
  }
 },
 "nbformat": 4,
 "nbformat_minor": 0
}
