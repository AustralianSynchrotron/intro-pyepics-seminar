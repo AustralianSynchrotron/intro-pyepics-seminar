{
 "cells": [
  {
   "cell_type": "code",
   "execution_count": null,
   "metadata": {
    "collapsed": false,
    "slideshow": {
     "slide_type": "skip"
    }
   },
   "outputs": [],
   "source": [
    "from notebook.services.config import ConfigManager\n",
    "cm = ConfigManager()\n",
    "cm.update('livereveal', {\n",
    "    'minScale': 1, # Changing creates problems\n",
    "    'width': 1024,\n",
    "    'height': 900,\n",
    "});\n",
    "\n",
    "\n",
    "%matplotlib inline\n",
    "import seaborn as sns\n",
    "import numpy as np\n",
    "import time\n",
    "from time import sleep\n",
    "from IPython.display import display, clear_output\n",
    "\n",
    "sns.set(rc={'figure.figsize': (15, 6)})\n",
    "np.set_printoptions(precision=5, threshold=100)\n",
    "\n",
    "# Set up some variables in case we forget to define them later\n",
    "import epics\n",
    "\n",
    "temperature_pv = epics.PV('PYEPICS_DEMO:TEMPERATURE')\n",
    "colour_pv = epics.PV('PYEPICS_DEMO:COLOUR')\n",
    "wave_pv = epics.PV('PYEPICS_DEMO:WAVE')\n",
    "\n",
    "\n",
    "def clear_callbacks():\n",
    "    for pv in [temperature_pv, colour_pv, wave_pv]:\n",
    "        pv.clear_callbacks()\n",
    "        pv.connection_callback = []"
   ]
  },
  {
   "cell_type": "markdown",
   "metadata": {
    "slideshow": {
     "slide_type": "slide"
    }
   },
   "source": [
    "# Why PyEPICS?\n",
    "\n",
    "## Because Python is awesome!\n",
    "\n",
    "![https://xkcd.com/353/](images/xkcd-800.png)\n",
    "\n",
    "* Easy to learn\n",
    "* Highly readable syntax\n",
    "* Powerful features\n",
    "* Widely used at many research facilities"
   ]
  },
  {
   "cell_type": "markdown",
   "metadata": {
    "collapsed": true,
    "slideshow": {
     "slide_type": "slide"
    }
   },
   "source": [
    "### PyEPICS enables you to...\n",
    "\n",
    "* Quickly access data from EPICS PVs in convenient formats (eg numpy arrays)\n",
    "* Easily create Python representations of physical devices\n",
    "* Automate interactions with multiple devices\n",
    "* Avoid the low-level details of the channel access protocol and focus on your application\n",
    "\n",
    "![PyEPICS](images/pyepics.png)"
   ]
  },
  {
   "cell_type": "markdown",
   "metadata": {
    "slideshow": {
     "slide_type": "slide"
    }
   },
   "source": [
    "# Setup"
   ]
  },
  {
   "cell_type": "markdown",
   "metadata": {
    "slideshow": {
     "slide_type": "-"
    }
   },
   "source": [
    "### Dependencies\n",
    "\n",
    "* [EPICS Base](http://www.aps.anl.gov/epics/base/R3-14/12.php) libraries\n",
    "* Python 2.6+ or 3.2+... ***2.7 or 3.4+ highly recommended***\n",
    "* *Optional:* numpy for nicer array handling"
   ]
  },
  {
   "cell_type": "markdown",
   "metadata": {
    "slideshow": {
     "slide_type": "fragment"
    }
   },
   "source": [
    "### Installation\n",
    "\n",
    "In your terminal:\n",
    "\n",
    "```bash\n",
    "pip3 install pyepics\n",
    "```"
   ]
  },
  {
   "cell_type": "markdown",
   "metadata": {
    "slideshow": {
     "slide_type": "fragment"
    }
   },
   "source": [
    "Set the environment variables (eg in your `~/.bashrc` file):\n",
    "\n",
    "```bash\n",
    "export EPICS_BASE=/epics/base\n",
    "\n",
    "export EPICS_HOST_ARCH=linux-x86_64\n",
    "```"
   ]
  },
  {
   "cell_type": "markdown",
   "metadata": {
    "slideshow": {
     "slide_type": "slide"
    }
   },
   "source": [
    "# Let's get some PVs"
   ]
  },
  {
   "cell_type": "code",
   "execution_count": null,
   "metadata": {
    "collapsed": true,
    "slideshow": {
     "slide_type": "fragment"
    }
   },
   "outputs": [],
   "source": [
    "import epics"
   ]
  },
  {
   "cell_type": "code",
   "execution_count": null,
   "metadata": {
    "collapsed": false,
    "slideshow": {
     "slide_type": "fragment"
    }
   },
   "outputs": [],
   "source": [
    "temperature_pv = epics.PV('PYEPICS_DEMO:TEMPERATURE')"
   ]
  },
  {
   "cell_type": "code",
   "execution_count": null,
   "metadata": {
    "collapsed": false,
    "slideshow": {
     "slide_type": "fragment"
    }
   },
   "outputs": [],
   "source": [
    "temperature_pv.get()"
   ]
  },
  {
   "cell_type": "code",
   "execution_count": null,
   "metadata": {
    "collapsed": false,
    "slideshow": {
     "slide_type": "fragment"
    }
   },
   "outputs": [],
   "source": [
    "temperature_pv.value"
   ]
  },
  {
   "cell_type": "markdown",
   "metadata": {
    "slideshow": {
     "slide_type": "slide"
    }
   },
   "source": [
    "## Other PV properties"
   ]
  },
  {
   "cell_type": "code",
   "execution_count": null,
   "metadata": {
    "collapsed": false,
    "slideshow": {
     "slide_type": "fragment"
    }
   },
   "outputs": [],
   "source": [
    "temperature_pv.units"
   ]
  },
  {
   "cell_type": "code",
   "execution_count": null,
   "metadata": {
    "collapsed": false,
    "slideshow": {
     "slide_type": "fragment"
    }
   },
   "outputs": [],
   "source": [
    "print('Low alarm limit:', temperature_pv.lower_alarm_limit)\n",
    "print('High alarm limit:', temperature_pv.upper_alarm_limit)"
   ]
  },
  {
   "cell_type": "code",
   "execution_count": null,
   "metadata": {
    "collapsed": false,
    "slideshow": {
     "slide_type": "fragment"
    }
   },
   "outputs": [],
   "source": [
    "print('Alarm severity:', temperature_pv.severity)"
   ]
  },
  {
   "cell_type": "markdown",
   "metadata": {
    "slideshow": {
     "slide_type": "slide"
    }
   },
   "source": [
    "# Getting Stringy PVs"
   ]
  },
  {
   "cell_type": "markdown",
   "metadata": {
    "slideshow": {
     "slide_type": "fragment"
    }
   },
   "source": [
    "* Strings\n",
    "* Enums\n",
    "* Character arrays"
   ]
  },
  {
   "cell_type": "code",
   "execution_count": null,
   "metadata": {
    "collapsed": false,
    "slideshow": {
     "slide_type": "fragment"
    }
   },
   "outputs": [],
   "source": [
    "colour_pv = epics.PV('PYEPICS_DEMO:COLOUR')\n",
    "colour_pv.get()"
   ]
  },
  {
   "cell_type": "code",
   "execution_count": null,
   "metadata": {
    "collapsed": false,
    "slideshow": {
     "slide_type": "fragment"
    }
   },
   "outputs": [],
   "source": [
    "colour_pv.get(as_string=True)"
   ]
  },
  {
   "cell_type": "code",
   "execution_count": null,
   "metadata": {
    "collapsed": false,
    "slideshow": {
     "slide_type": "fragment"
    }
   },
   "outputs": [],
   "source": [
    "colour_pv.char_value"
   ]
  },
  {
   "cell_type": "markdown",
   "metadata": {
    "slideshow": {
     "slide_type": "fragment"
    }
   },
   "source": [
    "***Warning:*** `pv.char_value` has a bug where it only works after doing `pv.get(as_string=True)`"
   ]
  },
  {
   "cell_type": "markdown",
   "metadata": {
    "slideshow": {
     "slide_type": "slide"
    }
   },
   "source": [
    "# Arrays and waveforms"
   ]
  },
  {
   "cell_type": "code",
   "execution_count": null,
   "metadata": {
    "collapsed": false
   },
   "outputs": [],
   "source": [
    "wave_pv = epics.PV('PYEPICS_DEMO:WAVE')\n",
    "data = wave_pv.get()\n",
    "data"
   ]
  },
  {
   "cell_type": "code",
   "execution_count": null,
   "metadata": {
    "collapsed": false,
    "slideshow": {
     "slide_type": "fragment"
    }
   },
   "outputs": [],
   "source": [
    "import matplotlib.pyplot as plt\n",
    "plt.plot(data)"
   ]
  },
  {
   "cell_type": "markdown",
   "metadata": {},
   "source": [
    "# &nbsp;"
   ]
  },
  {
   "cell_type": "markdown",
   "metadata": {},
   "source": [
    "# &nbsp;"
   ]
  },
  {
   "cell_type": "markdown",
   "metadata": {},
   "source": [
    "# &nbsp;"
   ]
  },
  {
   "cell_type": "markdown",
   "metadata": {
    "slideshow": {
     "slide_type": "slide"
    }
   },
   "source": [
    "## What happens if a PV doesn't exist"
   ]
  },
  {
   "cell_type": "code",
   "execution_count": null,
   "metadata": {
    "collapsed": false
   },
   "outputs": [],
   "source": [
    "invalid_pv = epics.PV('INVALID_NAME')\n",
    "\n",
    "print(invalid_pv.get())"
   ]
  },
  {
   "cell_type": "markdown",
   "metadata": {
    "slideshow": {
     "slide_type": "fragment"
    }
   },
   "source": [
    "## Lesson\n",
    "\n",
    "Don't do this:\n",
    "\n",
    "```python\n",
    "if not binary_pv.value:\n",
    "    \n",
    "    do_something()\n",
    "```\n",
    "\n",
    "Explicity check the value:\n",
    "\n",
    "```python\n",
    "if binary_pv.value == 0:\n",
    "    \n",
    "    do_something()\n",
    "```"
   ]
  },
  {
   "cell_type": "markdown",
   "metadata": {
    "slideshow": {
     "slide_type": "slide"
    }
   },
   "source": [
    "# Setting Values"
   ]
  },
  {
   "cell_type": "code",
   "execution_count": null,
   "metadata": {
    "collapsed": true,
    "slideshow": {
     "slide_type": "fragment"
    }
   },
   "outputs": [],
   "source": [
    "setpoint_pv = epics.PV('PYEPICS_DEMO:SETPOINT')"
   ]
  },
  {
   "cell_type": "code",
   "execution_count": null,
   "metadata": {
    "collapsed": false,
    "slideshow": {
     "slide_type": "fragment"
    }
   },
   "outputs": [],
   "source": [
    "setpoint_pv.put(5.2)"
   ]
  },
  {
   "cell_type": "code",
   "execution_count": null,
   "metadata": {
    "collapsed": true,
    "slideshow": {
     "slide_type": "fragment"
    }
   },
   "outputs": [],
   "source": [
    "setpoint_pv.value = 2.3"
   ]
  },
  {
   "cell_type": "markdown",
   "metadata": {
    "slideshow": {
     "slide_type": "fragment"
    }
   },
   "source": [
    "### Enum PVs accept int or str"
   ]
  },
  {
   "cell_type": "code",
   "execution_count": null,
   "metadata": {
    "collapsed": true,
    "slideshow": {
     "slide_type": "fragment"
    }
   },
   "outputs": [],
   "source": [
    "colour_pv = epics.PV('PYEPICS_DEMO:COLOUR')"
   ]
  },
  {
   "cell_type": "code",
   "execution_count": null,
   "metadata": {
    "collapsed": false,
    "slideshow": {
     "slide_type": "fragment"
    }
   },
   "outputs": [],
   "source": [
    "colour_pv.put(1)"
   ]
  },
  {
   "cell_type": "code",
   "execution_count": null,
   "metadata": {
    "collapsed": false,
    "slideshow": {
     "slide_type": "fragment"
    }
   },
   "outputs": [],
   "source": [
    "colour_pv.put('red')"
   ]
  },
  {
   "cell_type": "markdown",
   "metadata": {
    "slideshow": {
     "slide_type": "slide"
    }
   },
   "source": [
    "## Put doesn't guarantee the value was set"
   ]
  },
  {
   "cell_type": "markdown",
   "metadata": {
    "slideshow": {
     "slide_type": "fragment"
    }
   },
   "source": [
    "### When outside of drive limits"
   ]
  },
  {
   "cell_type": "code",
   "execution_count": null,
   "metadata": {
    "collapsed": false
   },
   "outputs": [],
   "source": [
    "setpoint_pv.put(15)  # PYEPICS_DEMO:SETPOINT has a DRVH of 10"
   ]
  },
  {
   "cell_type": "code",
   "execution_count": null,
   "metadata": {
    "collapsed": false
   },
   "outputs": [],
   "source": [
    "setpoint_pv.value"
   ]
  },
  {
   "cell_type": "markdown",
   "metadata": {
    "slideshow": {
     "slide_type": "fragment"
    }
   },
   "source": [
    "### When the PV is disconnected"
   ]
  },
  {
   "cell_type": "code",
   "execution_count": null,
   "metadata": {
    "collapsed": true
   },
   "outputs": [],
   "source": [
    "disconnected_pv = epics.PV('INVALID_NAME')"
   ]
  },
  {
   "cell_type": "code",
   "execution_count": null,
   "metadata": {
    "collapsed": false
   },
   "outputs": [],
   "source": [
    "status = disconnected_pv.put(3)\n",
    "print(status)"
   ]
  },
  {
   "cell_type": "markdown",
   "metadata": {
    "slideshow": {
     "slide_type": "slide"
    }
   },
   "source": [
    "# Callback functions\n",
    "\n",
    "Notifications when PVs state changes:\n",
    "\n",
    "* Connection\n",
    "* Value\n",
    "* Alarm"
   ]
  },
  {
   "cell_type": "markdown",
   "metadata": {
    "slideshow": {
     "slide_type": "fragment"
    }
   },
   "source": [
    "## Connection callbacks"
   ]
  },
  {
   "cell_type": "code",
   "execution_count": null,
   "metadata": {
    "collapsed": true,
    "slideshow": {
     "slide_type": "-"
    }
   },
   "outputs": [],
   "source": [
    "def on_connection_change(pvname, conn, pv):\n",
    "    print(pvname, 'connected:', conn, flush=True)"
   ]
  },
  {
   "cell_type": "code",
   "execution_count": null,
   "metadata": {
    "collapsed": false,
    "slideshow": {
     "slide_type": "fragment"
    }
   },
   "outputs": [],
   "source": [
    "colour_pv = epics.PV('PYEPICS_DEMO:COLOUR',\n",
    "                     connection_callback=on_connection_change)"
   ]
  },
  {
   "cell_type": "markdown",
   "metadata": {
    "slideshow": {
     "slide_type": "slide"
    }
   },
   "source": [
    "## Value callbacks"
   ]
  },
  {
   "cell_type": "code",
   "execution_count": null,
   "metadata": {
    "collapsed": false,
    "slideshow": {
     "slide_type": "fragment"
    }
   },
   "outputs": [],
   "source": [
    "def on_value(pvname, value, char_value, timestamp, **kwargs):\n",
    "    print(pvname, timestamp, value, char_value, flush=True)\n",
    "    print('severity:', kwargs['severity'],\n",
    "          'status:', kwargs['status'], flush=True)"
   ]
  },
  {
   "cell_type": "markdown",
   "metadata": {
    "slideshow": {
     "slide_type": "fragment"
    }
   },
   "source": [
    "#### Add the callback to the PV"
   ]
  },
  {
   "cell_type": "code",
   "execution_count": null,
   "metadata": {
    "collapsed": false,
    "slideshow": {
     "slide_type": "-"
    }
   },
   "outputs": [],
   "source": [
    "callback_id = colour_pv.add_callback(on_value)"
   ]
  },
  {
   "cell_type": "markdown",
   "metadata": {
    "slideshow": {
     "slide_type": "fragment"
    }
   },
   "source": [
    "#### Remove the callback"
   ]
  },
  {
   "cell_type": "code",
   "execution_count": null,
   "metadata": {
    "collapsed": true,
    "slideshow": {
     "slide_type": "-"
    }
   },
   "outputs": [],
   "source": [
    "colour_pv.remove_callback(callback_id)"
   ]
  },
  {
   "cell_type": "markdown",
   "metadata": {
    "slideshow": {
     "slide_type": "fragment"
    }
   },
   "source": [
    "#### Remove all callbacks"
   ]
  },
  {
   "cell_type": "code",
   "execution_count": null,
   "metadata": {
    "collapsed": true
   },
   "outputs": [],
   "source": [
    "colour_pv.clear_callbacks()"
   ]
  },
  {
   "cell_type": "markdown",
   "metadata": {
    "slideshow": {
     "slide_type": "slide"
    }
   },
   "source": [
    "### What *not* to do inside callback functions"
   ]
  },
  {
   "cell_type": "markdown",
   "metadata": {
    "slideshow": {
     "slide_type": "fragment"
    }
   },
   "source": [
    "Any other channel access function calls"
   ]
  },
  {
   "cell_type": "markdown",
   "metadata": {
    "slideshow": {
     "slide_type": "fragment"
    }
   },
   "source": [
    "Slow / resource intensive processing; the callback should complete in ms"
   ]
  },
  {
   "cell_type": "markdown",
   "metadata": {
    "slideshow": {
     "slide_type": "slide"
    }
   },
   "source": [
    "# Example of bad design"
   ]
  },
  {
   "cell_type": "code",
   "execution_count": null,
   "metadata": {
    "collapsed": false,
    "slideshow": {
     "slide_type": "-"
    }
   },
   "outputs": [],
   "source": [
    "from ipywidgets import Text\n",
    "\n",
    "temperature_textbox = Text()\n",
    "task_textbox = Text()\n",
    "\n",
    "display(temperature_textbox, task_textbox)\n",
    "\n",
    "def temperature_callback(value, **kwargs):\n",
    "    temperature_textbox.value = str(value)\n",
    "    \n",
    "def colour_callback(char_value, **kwargs):\n",
    "    task_textbox.value = 'RUNNING SLOW TASK'\n",
    "    sleep(5)\n",
    "    task_textbox.value = 'DONE!'\n",
    "\n",
    "temperature_pv.add_callback(temperature_callback)\n",
    "colour_pv.add_callback(colour_callback)"
   ]
  },
  {
   "cell_type": "code",
   "execution_count": null,
   "metadata": {
    "collapsed": true,
    "slideshow": {
     "slide_type": "fragment"
    }
   },
   "outputs": [],
   "source": [
    "temperature_pv.clear_callbacks()\n",
    "colour_pv.clear_callbacks()"
   ]
  },
  {
   "cell_type": "markdown",
   "metadata": {
    "slideshow": {
     "slide_type": "slide"
    }
   },
   "source": [
    "# Options"
   ]
  },
  {
   "cell_type": "markdown",
   "metadata": {
    "slideshow": {
     "slide_type": "fragment"
    }
   },
   "source": [
    "* Spawn a new thread from the callback"
   ]
  },
  {
   "cell_type": "markdown",
   "metadata": {
    "slideshow": {
     "slide_type": "fragment"
    }
   },
   "source": [
    "* Trigger processing on a worker thread using a queue or event "
   ]
  },
  {
   "cell_type": "markdown",
   "metadata": {
    "slideshow": {
     "slide_type": "slide"
    }
   },
   "source": [
    "## Deferring to a worker thread"
   ]
  },
  {
   "cell_type": "code",
   "execution_count": null,
   "metadata": {
    "collapsed": false
   },
   "outputs": [],
   "source": [
    "from threading import Event\n",
    "COLOUR_CHANGE = Event()\n",
    "\n",
    "display(temperature_textbox, task_textbox, )\n",
    "\n",
    "def temperature_callback(value, **kwargs):\n",
    "    temperature_textbox.value = str(value)\n",
    "    \n",
    "def colour_callback(char_value, **kwargs):\n",
    "    COLOUR_CHANGE.set()\n",
    "    \n",
    "def worker():\n",
    "    while True:\n",
    "        COLOUR_CHANGE.wait()  # <= Blocks until event triggered\n",
    "        task_textbox.value = 'RUNNING SLOW TASK'\n",
    "        sleep(5)\n",
    "        task_textbox.value = 'DONE!'\n",
    "        COLOUR_CHANGE.clear()\n",
    "\n",
    "worker_thread = epics.ca.CAThread(target=worker)\n",
    "worker_thread.start()\n",
    "        \n",
    "temperature_pv.add_callback(temperature_callback)\n",
    "colour_pv.add_callback(colour_callback)"
   ]
  },
  {
   "cell_type": "code",
   "execution_count": null,
   "metadata": {
    "collapsed": true
   },
   "outputs": [],
   "source": [
    "temperature_pv.clear_callbacks()\n",
    "colour_pv.clear_callbacks()"
   ]
  },
  {
   "cell_type": "markdown",
   "metadata": {
    "slideshow": {
     "slide_type": "slide"
    }
   },
   "source": [
    "## Devices"
   ]
  },
  {
   "cell_type": "code",
   "execution_count": null,
   "metadata": {
    "collapsed": true,
    "slideshow": {
     "slide_type": "fragment"
    }
   },
   "outputs": [],
   "source": [
    "demo_device = epics.Device(prefix='PYEPICS_DEMO:')"
   ]
  },
  {
   "cell_type": "code",
   "execution_count": null,
   "metadata": {
    "collapsed": false,
    "slideshow": {
     "slide_type": "fragment"
    }
   },
   "outputs": [],
   "source": [
    "demo_device.TEMPERATURE"
   ]
  },
  {
   "cell_type": "code",
   "execution_count": null,
   "metadata": {
    "collapsed": false,
    "slideshow": {
     "slide_type": "fragment"
    }
   },
   "outputs": [],
   "source": [
    "demo_device.COLOUR"
   ]
  },
  {
   "cell_type": "code",
   "execution_count": null,
   "metadata": {
    "collapsed": false,
    "slideshow": {
     "slide_type": "fragment"
    }
   },
   "outputs": [],
   "source": [
    "demo_device.get('COLOUR', as_string=True)"
   ]
  },
  {
   "cell_type": "code",
   "execution_count": null,
   "metadata": {
    "collapsed": true
   },
   "outputs": [],
   "source": [
    "demo_device.SETPOINT = 8"
   ]
  },
  {
   "cell_type": "code",
   "execution_count": null,
   "metadata": {
    "collapsed": false
   },
   "outputs": [],
   "source": [
    "demo_device.INVALID_NAME"
   ]
  },
  {
   "cell_type": "markdown",
   "metadata": {
    "slideshow": {
     "slide_type": "slide"
    }
   },
   "source": [
    "## Defensive programming with the Device class"
   ]
  },
  {
   "cell_type": "code",
   "execution_count": null,
   "metadata": {
    "collapsed": true,
    "slideshow": {
     "slide_type": "-"
    }
   },
   "outputs": [],
   "source": [
    "demo_device = epics.Device(prefix='PYEPICS_DEMO:',\n",
    "                           aliases={'target': 'SETPOINT',\n",
    "                                    'value': 'READBACK'},\n",
    "                           mutable=False)"
   ]
  },
  {
   "cell_type": "code",
   "execution_count": null,
   "metadata": {
    "collapsed": true
   },
   "outputs": [],
   "source": [
    "demo_device.target = 3.5"
   ]
  },
  {
   "cell_type": "code",
   "execution_count": null,
   "metadata": {
    "collapsed": false
   },
   "outputs": [],
   "source": [
    "demo_device.invalid_name = 9"
   ]
  },
  {
   "cell_type": "markdown",
   "metadata": {
    "slideshow": {
     "slide_type": "slide"
    }
   },
   "source": [
    "## Subclassing Device"
   ]
  },
  {
   "cell_type": "code",
   "execution_count": null,
   "metadata": {
    "collapsed": false
   },
   "outputs": [],
   "source": [
    "class DemoDevice(epics.Device):\n",
    "    def __init__(self, aliases=None, mutable=False, **kwargs):\n",
    "        if aliases is None:\n",
    "            aliases = {}\n",
    "        aliases.update({\n",
    "            'colour': 'COLOUR',\n",
    "            'target': 'SETPOINT',\n",
    "            'readback': 'READBACK'\n",
    "        })\n",
    "        super().__init__(aliases=aliases, mutable=mutable,\n",
    "                         **kwargs)\n",
    "    \n",
    "    @property\n",
    "    def colour_str(self):\n",
    "        return self.get('colour', as_string=True)\n",
    "    \n",
    "    def go_to_setpoint(self, setpoint):\n",
    "        self.target = setpoint\n",
    "        while abs(self.readback - setpoint) > .1:\n",
    "            print('Moving...', flush=True)\n",
    "            sleep(.5)"
   ]
  },
  {
   "cell_type": "code",
   "execution_count": null,
   "metadata": {
    "collapsed": true
   },
   "outputs": [],
   "source": [
    "demo_device = DemoDevice(prefix='PYEPICS_DEMO:')"
   ]
  },
  {
   "cell_type": "code",
   "execution_count": null,
   "metadata": {
    "collapsed": false
   },
   "outputs": [],
   "source": [
    "demo_device.go_to_setpoint(.1)"
   ]
  },
  {
   "cell_type": "code",
   "execution_count": null,
   "metadata": {
    "collapsed": false
   },
   "outputs": [],
   "source": [
    "demo_device.colour_str"
   ]
  },
  {
   "cell_type": "markdown",
   "metadata": {
    "slideshow": {
     "slide_type": "slide"
    }
   },
   "source": [
    "## Motor Device\n",
    "\n",
    "```python\n",
    ">>> from epics import Motor\n",
    ">>> motor_x = Motor('SR00ID00USR00:MOT8')\n",
    ">>> motor_x.readback\n",
    "10.5\n",
    ">>> motor_x.slew_speed = 100\n",
    ">>> motor_x.move(123, wait=True)\n",
    "0\n",
    "```"
   ]
  }
 ],
 "metadata": {
  "celltoolbar": "Slideshow",
  "kernelspec": {
   "display_name": "Python 3",
   "language": "python",
   "name": "python3"
  },
  "language_info": {
   "codemirror_mode": {
    "name": "ipython",
    "version": 3
   },
   "file_extension": ".py",
   "mimetype": "text/x-python",
   "name": "python",
   "nbconvert_exporter": "python",
   "pygments_lexer": "ipython3",
   "version": "3.5.1"
  },
  "widgets": {
   "state": {
    "0aa373b5be4e4bcd8d76086a61c376b7": {
     "views": [
      {
       "cell_index": 62
      },
      {
       "cell_index": 68
      },
      {
       "cell_index": 68
      },
      {
       "cell_index": 68
      }
     ]
    },
    "0ed83a475afe4a2694e1b10d0cae7710": {
     "views": []
    },
    "102f7907d02d47ffb54f5c5f772154ec": {
     "views": []
    },
    "1d77a96410fd4ab5a22199530367a824": {
     "views": []
    },
    "2f84713e9161432882db9a4f48e156f9": {
     "views": []
    },
    "396a8c2b804248e99520a7894a824a4f": {
     "views": []
    },
    "4413bcca11024b55abcabbfea205ab6f": {
     "views": []
    },
    "4697dd6db17a493f8da55ec095ae3491": {
     "views": []
    },
    "4a9caa2a218841199fec0c90b989abbc": {
     "views": []
    },
    "4b3e0cb5687e4a77bc18563b8dbba1da": {
     "views": []
    },
    "58783c14aec84d6cb9224452f88ac865": {
     "views": []
    },
    "5ad131ae7a0343d187328a6e3ebb9684": {
     "views": []
    },
    "5e898a1670134f24b71ca590ca92d782": {
     "views": [
      {
       "cell_index": 62
      }
     ]
    },
    "61f4a80a41f64668ac9a3a8950bb3e45": {
     "views": [
      {
       "cell_index": 62
      }
     ]
    },
    "6290a217f03f4076a791ed6e5db143a3": {
     "views": []
    },
    "6691dfe2a9ec4ff39ece9a7149322cca": {
     "views": []
    },
    "6cf53e3b4a6d4710bdb3e73a1e3ab22d": {
     "views": []
    },
    "7ebcddde8ba44d24b3023252e19b9a1b": {
     "views": []
    },
    "82cd5fda9e9f4b45998de882908d7ebd": {
     "views": []
    },
    "92022810fea244c9ab75c938653b7f9a": {
     "views": []
    },
    "982a9c6313e74aef99fb47b22033abda": {
     "views": []
    },
    "9f7eb6a369504888aa742f159d26a320": {
     "views": []
    },
    "a49621f72f3148e4b2503721f167e699": {
     "views": [
      {
       "cell_index": 62
      }
     ]
    },
    "b36910ffd6974c4b88411513582f5ca0": {
     "views": []
    },
    "b6ef1a1662584cea8892191015f97a85": {
     "views": [
      {
       "cell_index": 62
      }
     ]
    },
    "d04ef0d868a64c7dbfa94fa2d6874005": {
     "views": []
    },
    "d2ba864c5b994ad6ab5a45a843b12564": {
     "views": []
    },
    "d55fa8f4502844548fa160f60d94c276": {
     "views": [
      {
       "cell_index": 62
      }
     ]
    },
    "d79711b658274ebfbd105f9ac8983ca9": {
     "views": []
    },
    "db9b0884fb914ec5bbb8b3c9d401fb43": {
     "views": [
      {
       "cell_index": 62
      }
     ]
    },
    "fb2bfad05ebb4ec0b2405df948808ca2": {
     "views": []
    },
    "ffc80de96c18475e93bc2fb12bade333": {
     "views": []
    }
   },
   "version": "1.1.1"
  }
 },
 "nbformat": 4,
 "nbformat_minor": 0
}
