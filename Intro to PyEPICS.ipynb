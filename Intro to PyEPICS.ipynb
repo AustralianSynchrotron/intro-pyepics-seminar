{
 "cells": [
  {
   "cell_type": "code",
   "execution_count": null,
   "metadata": {
    "collapsed": false,
    "slideshow": {
     "slide_type": "skip"
    }
   },
   "outputs": [],
   "source": [
    "from notebook.services.config import ConfigManager\n",
    "cm = ConfigManager()\n",
    "cm.update('livereveal', {\n",
    "    'width': 1024,\n",
    "    'height': 900,\n",
    "    'start_slideshow_at': 'selected',\n",
    "});\n",
    "\n",
    "%matplotlib inline\n",
    "import seaborn as sns\n",
    "import numpy as np\n",
    "import threading\n",
    "from time import sleep\n",
    "from IPython.display import display, clear_output, HTML\n",
    "import ipywidgets\n",
    "\n",
    "sns.set(rc={'figure.figsize': (15, 6)})\n",
    "np.set_printoptions(precision=5, threshold=100)\n",
    "\n",
    "# Set up some variables in case we forget to define them later\n",
    "\n",
    "import epics\n",
    "\n",
    "temperature_pv = epics.PV('PYEPICS_DEMO:TEMPERATURE')\n",
    "setpoint_pv = epics.PV('PYEPICS_DEMO:SETPOINT')\n",
    "colour_pv = epics.PV('PYEPICS_DEMO:COLOUR')\n",
    "wave_pv = epics.PV('PYEPICS_DEMO:WAVE')\n",
    "\n",
    "\n",
    "def clear_callbacks():\n",
    "    for pv in [temperature_pv, colour_pv, wave_pv]:\n",
    "        pv.clear_callbacks()\n",
    "        pv.connection_callback = []\n",
    "        \n",
    "display(HTML(\"\"\"\n",
    "<style>\n",
    "    .reveal pre {\n",
    "        line-height: 1.4em !important;\n",
    "    }\n",
    "</style>\n",
    "\"\"\"))"
   ]
  },
  {
   "cell_type": "markdown",
   "metadata": {
    "slideshow": {
     "slide_type": "slide"
    }
   },
   "source": [
    "# Why PyEPICS?\n",
    "\n",
    "## Because Python is awesome!\n",
    "\n",
    "![http://xkcd.com/353/](images/xkcd-800.png)\n",
    "\n",
    "`http://xkcd.com/353/`\n",
    "\n",
    "* Easy to learn\n",
    "* Highly readable syntax\n",
    "* Powerful features\n",
    "* Widely used at many research facilities"
   ]
  },
  {
   "cell_type": "markdown",
   "metadata": {
    "collapsed": true,
    "slideshow": {
     "slide_type": "slide"
    }
   },
   "source": [
    "### PyEPICS enables you to...\n",
    "\n",
    "* Quickly access data from EPICS PVs in convenient formats (eg numpy arrays)\n",
    "* Easily create Python representations of physical devices\n",
    "* Automate interactions with multiple devices\n",
    "* Avoid the low-level details of the channel access protocol and focus on your application\n",
    "\n",
    "![PyEPICS](images/pyepics.png)"
   ]
  },
  {
   "cell_type": "markdown",
   "metadata": {
    "slideshow": {
     "slide_type": "slide"
    }
   },
   "source": [
    "# Setup"
   ]
  },
  {
   "cell_type": "markdown",
   "metadata": {
    "slideshow": {
     "slide_type": "-"
    }
   },
   "source": [
    "### Dependencies\n",
    "\n",
    "* [EPICS Base](http://www.aps.anl.gov/epics/base/R3-14/12.php) libraries\n",
    "* Python 2.6+ or 3.2+... ***2.7 or 3.4+ highly recommended***\n",
    "* *Optional:* numpy for nicer array handling"
   ]
  },
  {
   "cell_type": "markdown",
   "metadata": {
    "slideshow": {
     "slide_type": "fragment"
    }
   },
   "source": [
    "### Installation\n",
    "\n",
    "In your terminal:\n",
    "\n",
    "```bash\n",
    "pip3 install pyepics\n",
    "```"
   ]
  },
  {
   "cell_type": "markdown",
   "metadata": {
    "slideshow": {
     "slide_type": "fragment"
    }
   },
   "source": [
    "Set the environment variables (eg in your `~/.bashrc` file):\n",
    "\n",
    "```bash\n",
    "export EPICS_BASE=/epics/base\n",
    "export EPICS_HOST_ARCH=linux-x86_64\n",
    "```"
   ]
  },
  {
   "cell_type": "markdown",
   "metadata": {
    "slideshow": {
     "slide_type": "slide"
    }
   },
   "source": [
    "# Let's get some PVs"
   ]
  },
  {
   "cell_type": "code",
   "execution_count": null,
   "metadata": {
    "collapsed": true,
    "slideshow": {
     "slide_type": "fragment"
    }
   },
   "outputs": [],
   "source": [
    "import epics"
   ]
  },
  {
   "cell_type": "code",
   "execution_count": null,
   "metadata": {
    "collapsed": false,
    "slideshow": {
     "slide_type": "fragment"
    }
   },
   "outputs": [],
   "source": [
    "temperature_pv = epics.PV('PYEPICS_DEMO:TEMPERATURE')"
   ]
  },
  {
   "cell_type": "code",
   "execution_count": null,
   "metadata": {
    "collapsed": false,
    "slideshow": {
     "slide_type": "fragment"
    }
   },
   "outputs": [],
   "source": [
    "temperature_pv.get()"
   ]
  },
  {
   "cell_type": "code",
   "execution_count": null,
   "metadata": {
    "collapsed": false,
    "slideshow": {
     "slide_type": "fragment"
    }
   },
   "outputs": [],
   "source": [
    "temperature_pv.value"
   ]
  },
  {
   "cell_type": "markdown",
   "metadata": {
    "slideshow": {
     "slide_type": "slide"
    }
   },
   "source": [
    "## Other PV properties"
   ]
  },
  {
   "cell_type": "code",
   "execution_count": null,
   "metadata": {
    "collapsed": false,
    "slideshow": {
     "slide_type": "fragment"
    }
   },
   "outputs": [],
   "source": [
    "temperature_pv.units"
   ]
  },
  {
   "cell_type": "code",
   "execution_count": null,
   "metadata": {
    "collapsed": false,
    "slideshow": {
     "slide_type": "fragment"
    }
   },
   "outputs": [],
   "source": [
    "print('Low alarm limit:', temperature_pv.lower_alarm_limit)\n",
    "print('High alarm limit:', temperature_pv.upper_alarm_limit)"
   ]
  },
  {
   "cell_type": "code",
   "execution_count": null,
   "metadata": {
    "collapsed": false,
    "slideshow": {
     "slide_type": "fragment"
    }
   },
   "outputs": [],
   "source": [
    "print('Alarm severity:', temperature_pv.severity) "
   ]
  },
  {
   "cell_type": "code",
   "execution_count": null,
   "metadata": {
    "collapsed": false,
    "slideshow": {
     "slide_type": "fragment"
    }
   },
   "outputs": [],
   "source": [
    "temperature_pv.timestamp"
   ]
  },
  {
   "cell_type": "markdown",
   "metadata": {
    "slideshow": {
     "slide_type": "slide"
    }
   },
   "source": [
    "# Getting Stringy PVs"
   ]
  },
  {
   "cell_type": "markdown",
   "metadata": {
    "slideshow": {
     "slide_type": "fragment"
    }
   },
   "source": [
    "* Strings\n",
    "* Enums\n",
    "* Character arrays"
   ]
  },
  {
   "cell_type": "code",
   "execution_count": null,
   "metadata": {
    "collapsed": false,
    "slideshow": {
     "slide_type": "fragment"
    }
   },
   "outputs": [],
   "source": [
    "colour_pv = epics.PV('PYEPICS_DEMO:COLOUR')\n",
    "colour_pv.get()"
   ]
  },
  {
   "cell_type": "code",
   "execution_count": null,
   "metadata": {
    "collapsed": false,
    "slideshow": {
     "slide_type": "fragment"
    }
   },
   "outputs": [],
   "source": [
    "colour_pv.get(as_string=True)"
   ]
  },
  {
   "cell_type": "code",
   "execution_count": null,
   "metadata": {
    "collapsed": false,
    "slideshow": {
     "slide_type": "fragment"
    }
   },
   "outputs": [],
   "source": [
    "colour_pv.char_value"
   ]
  },
  {
   "cell_type": "markdown",
   "metadata": {
    "slideshow": {
     "slide_type": "fragment"
    }
   },
   "source": [
    "***Warning:*** `pv.char_value` has a bug where it only works after doing `pv.get(as_string=True)`"
   ]
  },
  {
   "cell_type": "markdown",
   "metadata": {
    "slideshow": {
     "slide_type": "slide"
    }
   },
   "source": [
    "# Arrays and waveforms"
   ]
  },
  {
   "cell_type": "code",
   "execution_count": null,
   "metadata": {
    "collapsed": false
   },
   "outputs": [],
   "source": [
    "wave_pv = epics.PV('PYEPICS_DEMO:WAVE')\n",
    "data = wave_pv.get()\n",
    "data"
   ]
  },
  {
   "cell_type": "code",
   "execution_count": null,
   "metadata": {
    "collapsed": false,
    "slideshow": {
     "slide_type": "fragment"
    }
   },
   "outputs": [],
   "source": [
    "print(data.min(), data.max(), data.mean())"
   ]
  },
  {
   "cell_type": "code",
   "execution_count": null,
   "metadata": {
    "collapsed": false,
    "slideshow": {
     "slide_type": "fragment"
    }
   },
   "outputs": [],
   "source": [
    "import matplotlib.pyplot as plt\n",
    "plt.plot(data)"
   ]
  },
  {
   "cell_type": "markdown",
   "metadata": {},
   "source": [
    "# &nbsp;"
   ]
  },
  {
   "cell_type": "markdown",
   "metadata": {},
   "source": [
    "# &nbsp;"
   ]
  },
  {
   "cell_type": "markdown",
   "metadata": {},
   "source": [
    "# &nbsp;"
   ]
  },
  {
   "cell_type": "markdown",
   "metadata": {
    "slideshow": {
     "slide_type": "slide"
    }
   },
   "source": [
    "## What happens if a PV doesn't exist"
   ]
  },
  {
   "cell_type": "code",
   "execution_count": null,
   "metadata": {
    "collapsed": false
   },
   "outputs": [],
   "source": [
    "invalid_pv = epics.PV('INVALID_NAME')\n",
    "value = invalid_pv.get()\n",
    "print(value)"
   ]
  },
  {
   "cell_type": "code",
   "execution_count": null,
   "metadata": {
    "collapsed": false,
    "slideshow": {
     "slide_type": "fragment"
    }
   },
   "outputs": [],
   "source": [
    "if value is not None:\n",
    "    print('We got a value :)')\n",
    "else:\n",
    "    print('Failed to get a value :(')"
   ]
  },
  {
   "cell_type": "markdown",
   "metadata": {
    "slideshow": {
     "slide_type": "fragment"
    }
   },
   "source": [
    "### Lesson\n",
    "\n",
    "```python\n",
    "if not binary_pv.get():  # DON'T DO THIS\n",
    "    do_something()\n",
    "\n",
    "if binary_pv.get() == 0:  # DO THIS\n",
    "    do_something()\n",
    "```"
   ]
  },
  {
   "cell_type": "markdown",
   "metadata": {
    "slideshow": {
     "slide_type": "slide"
    }
   },
   "source": [
    "# Setting Values"
   ]
  },
  {
   "cell_type": "code",
   "execution_count": null,
   "metadata": {
    "collapsed": true,
    "slideshow": {
     "slide_type": "fragment"
    }
   },
   "outputs": [],
   "source": [
    "setpoint_pv = epics.PV('PYEPICS_DEMO:SETPOINT')"
   ]
  },
  {
   "cell_type": "code",
   "execution_count": null,
   "metadata": {
    "collapsed": false,
    "slideshow": {
     "slide_type": "fragment"
    }
   },
   "outputs": [],
   "source": [
    "setpoint_pv.put(8.2)"
   ]
  },
  {
   "cell_type": "code",
   "execution_count": null,
   "metadata": {
    "collapsed": true,
    "slideshow": {
     "slide_type": "fragment"
    }
   },
   "outputs": [],
   "source": [
    "setpoint_pv.value = 2.3"
   ]
  },
  {
   "cell_type": "markdown",
   "metadata": {
    "slideshow": {
     "slide_type": "fragment"
    }
   },
   "source": [
    "### Enum PVs accept int or str"
   ]
  },
  {
   "cell_type": "code",
   "execution_count": null,
   "metadata": {
    "collapsed": true,
    "slideshow": {
     "slide_type": "fragment"
    }
   },
   "outputs": [],
   "source": [
    "colour_pv = epics.PV('PYEPICS_DEMO:COLOUR')"
   ]
  },
  {
   "cell_type": "code",
   "execution_count": null,
   "metadata": {
    "collapsed": false,
    "slideshow": {
     "slide_type": "fragment"
    }
   },
   "outputs": [],
   "source": [
    "colour_pv.put(0)"
   ]
  },
  {
   "cell_type": "code",
   "execution_count": null,
   "metadata": {
    "collapsed": false,
    "slideshow": {
     "slide_type": "fragment"
    }
   },
   "outputs": [],
   "source": [
    "colour_pv.put('blue')"
   ]
  },
  {
   "cell_type": "markdown",
   "metadata": {
    "slideshow": {
     "slide_type": "slide"
    }
   },
   "source": [
    "## Warning: Put doesn't guarantee the value was set"
   ]
  },
  {
   "cell_type": "markdown",
   "metadata": {
    "slideshow": {
     "slide_type": "fragment"
    }
   },
   "source": [
    "### When outside of drive limits"
   ]
  },
  {
   "cell_type": "code",
   "execution_count": null,
   "metadata": {
    "collapsed": false
   },
   "outputs": [],
   "source": [
    "setpoint_pv.put(15)  # PYEPICS_DEMO:SETPOINT has a DRVH of 10"
   ]
  },
  {
   "cell_type": "code",
   "execution_count": null,
   "metadata": {
    "collapsed": false
   },
   "outputs": [],
   "source": [
    "setpoint_pv.value"
   ]
  },
  {
   "cell_type": "markdown",
   "metadata": {
    "slideshow": {
     "slide_type": "fragment"
    }
   },
   "source": [
    "### When the PV is disconnected"
   ]
  },
  {
   "cell_type": "code",
   "execution_count": null,
   "metadata": {
    "collapsed": true
   },
   "outputs": [],
   "source": [
    "disconnected_pv = epics.PV('INVALID_NAME')"
   ]
  },
  {
   "cell_type": "code",
   "execution_count": null,
   "metadata": {
    "collapsed": false
   },
   "outputs": [],
   "source": [
    "status = disconnected_pv.put(3)\n",
    "print(status)"
   ]
  },
  {
   "cell_type": "markdown",
   "metadata": {
    "slideshow": {
     "slide_type": "slide"
    }
   },
   "source": [
    "# Callback functions\n",
    "\n",
    "Notifications when PVs state changes:\n",
    "\n",
    "* Connection\n",
    "* Value\n",
    "* Alarm"
   ]
  },
  {
   "cell_type": "markdown",
   "metadata": {
    "slideshow": {
     "slide_type": "fragment"
    }
   },
   "source": [
    "## Connection callbacks"
   ]
  },
  {
   "cell_type": "code",
   "execution_count": null,
   "metadata": {
    "collapsed": true,
    "slideshow": {
     "slide_type": "-"
    }
   },
   "outputs": [],
   "source": [
    "def on_connection_change(pvname, conn, pv):\n",
    "    print(pvname, 'connected:', conn, flush=True)"
   ]
  },
  {
   "cell_type": "code",
   "execution_count": null,
   "metadata": {
    "collapsed": false,
    "slideshow": {
     "slide_type": "fragment"
    }
   },
   "outputs": [],
   "source": [
    "colour_pv = epics.PV('PYEPICS_DEMO:COLOUR',\n",
    "                     connection_callback=on_connection_change)"
   ]
  },
  {
   "cell_type": "markdown",
   "metadata": {
    "slideshow": {
     "slide_type": "slide"
    }
   },
   "source": [
    "## Value callbacks"
   ]
  },
  {
   "cell_type": "code",
   "execution_count": null,
   "metadata": {
    "collapsed": false,
    "slideshow": {
     "slide_type": "fragment"
    }
   },
   "outputs": [],
   "source": [
    "def on_value(pvname, value, char_value,\n",
    "             timestamp, **other_params):\n",
    "    \n",
    "    print(pvname, timestamp, value, char_value, flush=True)\n",
    "    print('severity:', other_params['severity'],\n",
    "          'status:', other_params['status'], flush=True)"
   ]
  },
  {
   "cell_type": "markdown",
   "metadata": {
    "slideshow": {
     "slide_type": "fragment"
    }
   },
   "source": [
    "#### Add the callback to the PV"
   ]
  },
  {
   "cell_type": "code",
   "execution_count": null,
   "metadata": {
    "collapsed": false,
    "slideshow": {
     "slide_type": "-"
    }
   },
   "outputs": [],
   "source": [
    "callback_id = colour_pv.add_callback(on_value)\n",
    "print('Callback was added with id:', callback_id)"
   ]
  },
  {
   "cell_type": "markdown",
   "metadata": {
    "slideshow": {
     "slide_type": "fragment"
    }
   },
   "source": [
    "#### Remove the callback"
   ]
  },
  {
   "cell_type": "code",
   "execution_count": null,
   "metadata": {
    "collapsed": true,
    "slideshow": {
     "slide_type": "-"
    }
   },
   "outputs": [],
   "source": [
    "colour_pv.remove_callback(callback_id)"
   ]
  },
  {
   "cell_type": "markdown",
   "metadata": {
    "slideshow": {
     "slide_type": "fragment"
    }
   },
   "source": [
    "#### Remove all callbacks"
   ]
  },
  {
   "cell_type": "code",
   "execution_count": null,
   "metadata": {
    "collapsed": true
   },
   "outputs": [],
   "source": [
    "colour_pv.clear_callbacks()"
   ]
  },
  {
   "cell_type": "markdown",
   "metadata": {},
   "source": [
    "# &nbsp;\n",
    "# &nbsp;\n",
    "# &nbsp;\n",
    "# &nbsp;\n",
    "# &nbsp;"
   ]
  },
  {
   "cell_type": "markdown",
   "metadata": {
    "slideshow": {
     "slide_type": "slide"
    }
   },
   "source": [
    "### What *not* to do inside callback functions"
   ]
  },
  {
   "cell_type": "markdown",
   "metadata": {
    "slideshow": {
     "slide_type": "fragment"
    }
   },
   "source": [
    "Any other channel access function calls"
   ]
  },
  {
   "cell_type": "markdown",
   "metadata": {
    "slideshow": {
     "slide_type": "fragment"
    }
   },
   "source": [
    "Slow / resource intensive processing; the callback should complete in ms"
   ]
  },
  {
   "cell_type": "markdown",
   "metadata": {
    "slideshow": {
     "slide_type": "slide"
    }
   },
   "source": [
    "## Running a task from a callback:\n",
    "## The *wrong* way"
   ]
  },
  {
   "cell_type": "code",
   "execution_count": null,
   "metadata": {
    "collapsed": false,
    "slideshow": {
     "slide_type": "-"
    }
   },
   "outputs": [],
   "source": [
    "temperature_textbox = ipywidgets.Text()\n",
    "task_textbox = ipywidgets.Text()\n",
    "\n",
    "display(temperature_textbox, task_textbox)\n",
    "\n",
    "def temperature_callback(value, **kwargs):\n",
    "    temperature_textbox.value = str(value)\n",
    "    \n",
    "def colour_callback(char_value, **kwargs):\n",
    "    task_textbox.value = 'RUNNING SLOW TASK'\n",
    "    sleep(5)\n",
    "    task_textbox.value = 'DONE!'\n",
    "\n",
    "temperature_pv.add_callback(temperature_callback)\n",
    "colour_pv.add_callback(colour_callback);"
   ]
  },
  {
   "cell_type": "code",
   "execution_count": null,
   "metadata": {
    "collapsed": true,
    "slideshow": {
     "slide_type": "fragment"
    }
   },
   "outputs": [],
   "source": [
    "temperature_pv.clear_callbacks()\n",
    "colour_pv.clear_callbacks()"
   ]
  },
  {
   "cell_type": "markdown",
   "metadata": {
    "slideshow": {
     "slide_type": "slide"
    }
   },
   "source": [
    "# Options"
   ]
  },
  {
   "cell_type": "markdown",
   "metadata": {
    "slideshow": {
     "slide_type": "fragment"
    }
   },
   "source": [
    "* Spawn a new thread from the callback."
   ]
  },
  {
   "cell_type": "markdown",
   "metadata": {
    "slideshow": {
     "slide_type": "fragment"
    }
   },
   "source": [
    "* Trigger processing on a worker thread using a queue or signal. See:\n",
    "\n",
    "    * `queue` package:\n",
    "    https://docs.python.org/3/library/queue.html\n",
    "    * `threading` package: https://docs.python.org/3/library/threading.html"
   ]
  },
  {
   "cell_type": "markdown",
   "metadata": {
    "slideshow": {
     "slide_type": "slide"
    }
   },
   "source": [
    "# `threading.Event`\n",
    "\n",
    "* Enables signalling between threads\n",
    "* Calling `event.wait()` will pause execution until the event is triggered\n",
    "* Calling `event.set()` signals the event has happened, allowing any threads that were waiting for it to run"
   ]
  },
  {
   "cell_type": "markdown",
   "metadata": {
    "slideshow": {
     "slide_type": "slide"
    }
   },
   "source": [
    "## Running a task from a callback:\n",
    "## The right way!"
   ]
  },
  {
   "cell_type": "code",
   "execution_count": null,
   "metadata": {
    "collapsed": false
   },
   "outputs": [],
   "source": [
    "COLOUR_CHANGE = threading.Event()\n",
    "\n",
    "def worker():\n",
    "    while True:\n",
    "        COLOUR_CHANGE.wait()  # <= Blocks until event is triggered\n",
    "        task_textbox.value = 'RUNNING SLOW TASK'\n",
    "        sleep(5)\n",
    "        task_textbox.value = 'DONE!'\n",
    "        COLOUR_CHANGE.clear()\n",
    "\n",
    "worker_thread = epics.ca.CAThread(target=worker)\n",
    "worker_thread.start()\n",
    "\n",
    "def temperature_callback(value, **kwargs):\n",
    "    temperature_textbox.value = str(value)\n",
    "    \n",
    "def colour_callback(char_value, **kwargs):\n",
    "    COLOUR_CHANGE.set()  # <= Trigger the event\n",
    "\n",
    "display(temperature_textbox, task_textbox)\n",
    "temperature_pv.add_callback(temperature_callback)\n",
    "colour_pv.add_callback(colour_callback);"
   ]
  },
  {
   "cell_type": "code",
   "execution_count": null,
   "metadata": {
    "collapsed": true
   },
   "outputs": [],
   "source": [
    "temperature_pv.clear_callbacks()\n",
    "colour_pv.clear_callbacks()"
   ]
  },
  {
   "cell_type": "markdown",
   "metadata": {
    "slideshow": {
     "slide_type": "slide"
    }
   },
   "source": [
    "## Devices\n",
    "\n",
    "Structure for reading and writing related PVs"
   ]
  },
  {
   "cell_type": "code",
   "execution_count": null,
   "metadata": {
    "collapsed": false,
    "slideshow": {
     "slide_type": "fragment"
    }
   },
   "outputs": [],
   "source": [
    "demo_device = epics.Device(prefix='PYEPICS_DEMO:')\n",
    "print(demo_device)"
   ]
  },
  {
   "cell_type": "code",
   "execution_count": null,
   "metadata": {
    "collapsed": false,
    "slideshow": {
     "slide_type": "fragment"
    }
   },
   "outputs": [],
   "source": [
    "demo_device.TEMPERATURE"
   ]
  },
  {
   "cell_type": "code",
   "execution_count": null,
   "metadata": {
    "collapsed": false,
    "slideshow": {
     "slide_type": "fragment"
    }
   },
   "outputs": [],
   "source": [
    "demo_device.COLOUR"
   ]
  },
  {
   "cell_type": "code",
   "execution_count": null,
   "metadata": {
    "collapsed": false,
    "slideshow": {
     "slide_type": "fragment"
    }
   },
   "outputs": [],
   "source": [
    "demo_device.get('COLOUR', as_string=True)"
   ]
  },
  {
   "cell_type": "code",
   "execution_count": null,
   "metadata": {
    "collapsed": false,
    "slideshow": {
     "slide_type": "fragment"
    }
   },
   "outputs": [],
   "source": [
    "demo_device.SETPOINT = 8"
   ]
  },
  {
   "cell_type": "markdown",
   "metadata": {
    "slideshow": {
     "slide_type": "slide"
    }
   },
   "source": [
    "# Under the covers"
   ]
  },
  {
   "cell_type": "code",
   "execution_count": null,
   "metadata": {
    "collapsed": false,
    "slideshow": {
     "slide_type": "fragment"
    }
   },
   "outputs": [],
   "source": [
    "print(demo_device)"
   ]
  },
  {
   "cell_type": "code",
   "execution_count": null,
   "metadata": {
    "collapsed": false,
    "slideshow": {
     "slide_type": "fragment"
    }
   },
   "outputs": [],
   "source": [
    "print(demo_device._pvs)"
   ]
  },
  {
   "cell_type": "markdown",
   "metadata": {
    "slideshow": {
     "slide_type": "slide"
    }
   },
   "source": [
    "# Danger!"
   ]
  },
  {
   "cell_type": "code",
   "execution_count": null,
   "metadata": {
    "collapsed": false,
    "slideshow": {
     "slide_type": "fragment"
    }
   },
   "outputs": [],
   "source": [
    "demo_device.INVALID_NAME"
   ]
  },
  {
   "cell_type": "markdown",
   "metadata": {},
   "source": [
    "# &nbsp;\n",
    "# &nbsp;\n",
    "# &nbsp;\n",
    "# &nbsp;\n",
    "# &nbsp;\n",
    "# &nbsp;\n",
    "# &nbsp;\n",
    "# &nbsp;\n",
    "# &nbsp;"
   ]
  },
  {
   "cell_type": "markdown",
   "metadata": {
    "slideshow": {
     "slide_type": "slide"
    }
   },
   "source": [
    "## Defensive programming with the Device class"
   ]
  },
  {
   "cell_type": "code",
   "execution_count": null,
   "metadata": {
    "collapsed": false,
    "slideshow": {
     "slide_type": "-"
    }
   },
   "outputs": [],
   "source": [
    "safe_demo_device = epics.Device(prefix='PYEPICS_DEMO:',\n",
    "                                aliases={'target': 'SETPOINT',\n",
    "                                         'value': 'READBACK',\n",
    "                                         'colour': 'COLOUR'},\n",
    "                                mutable=False)\n",
    "print(safe_demo_device)"
   ]
  },
  {
   "cell_type": "code",
   "execution_count": null,
   "metadata": {
    "collapsed": true
   },
   "outputs": [],
   "source": [
    "safe_demo_device.target = 1.5"
   ]
  },
  {
   "cell_type": "code",
   "execution_count": null,
   "metadata": {
    "collapsed": false
   },
   "outputs": [],
   "source": [
    "safe_demo_device.invalid_name"
   ]
  },
  {
   "cell_type": "markdown",
   "metadata": {},
   "source": [
    "# &nbsp;\n",
    "# &nbsp;\n",
    "# &nbsp;\n",
    "# &nbsp;\n",
    "# &nbsp;\n",
    "# &nbsp;"
   ]
  },
  {
   "cell_type": "markdown",
   "metadata": {
    "slideshow": {
     "slide_type": "slide"
    }
   },
   "source": [
    "# Saving device state"
   ]
  },
  {
   "cell_type": "code",
   "execution_count": null,
   "metadata": {
    "collapsed": false,
    "slideshow": {
     "slide_type": "fragment"
    }
   },
   "outputs": [],
   "source": [
    "state = safe_demo_device.save_state()\n",
    "state"
   ]
  },
  {
   "cell_type": "code",
   "execution_count": null,
   "metadata": {
    "collapsed": true,
    "slideshow": {
     "slide_type": "fragment"
    }
   },
   "outputs": [],
   "source": [
    "safe_demo_device.SETPOINT = 7.1"
   ]
  },
  {
   "cell_type": "code",
   "execution_count": null,
   "metadata": {
    "collapsed": true,
    "slideshow": {
     "slide_type": "fragment"
    }
   },
   "outputs": [],
   "source": [
    "safe_demo_device.restore_state(state)"
   ]
  },
  {
   "cell_type": "code",
   "execution_count": null,
   "metadata": {
    "collapsed": true,
    "slideshow": {
     "slide_type": "fragment"
    }
   },
   "outputs": [],
   "source": [
    "safe_demo_device.write_state('demo_device_state.txt')"
   ]
  },
  {
   "cell_type": "markdown",
   "metadata": {
    "slideshow": {
     "slide_type": "slide"
    }
   },
   "source": [
    "## Subclassing Device"
   ]
  },
  {
   "cell_type": "code",
   "execution_count": null,
   "metadata": {
    "collapsed": false
   },
   "outputs": [],
   "source": [
    "class DemoDevice(epics.Device):\n",
    "    def __init__(self, aliases=None, mutable=False, **kws):\n",
    "        if aliases is None:\n",
    "            aliases = {}\n",
    "        aliases.update({'colour': 'COLOUR',\n",
    "                        'target': 'SETPOINT',\n",
    "                        'readback': 'READBACK'})\n",
    "        super().__init__(aliases=aliases, mutable=mutable, **kws)\n",
    "    \n",
    "    def go_to_setpoint(self, setpoint):\n",
    "        self.target = setpoint\n",
    "        while abs(self.readback - setpoint) > .1:\n",
    "            print('Moving...', flush=True)\n",
    "            sleep(.5)\n",
    "            \n",
    "    @property\n",
    "    def colour_string(self):\n",
    "        return self.get('colour', as_string=True)\n",
    "\n",
    "demo_device = DemoDevice(prefix='PYEPICS_DEMO:')"
   ]
  },
  {
   "cell_type": "code",
   "execution_count": null,
   "metadata": {
    "collapsed": false
   },
   "outputs": [],
   "source": [
    "demo_device.go_to_setpoint(7.5)"
   ]
  },
  {
   "cell_type": "code",
   "execution_count": null,
   "metadata": {
    "collapsed": false
   },
   "outputs": [],
   "source": [
    "demo_device.colour_string"
   ]
  },
  {
   "cell_type": "markdown",
   "metadata": {},
   "source": [
    "# &nbsp;\n",
    "# &nbsp;\n",
    "# &nbsp;\n",
    "# &nbsp;"
   ]
  },
  {
   "cell_type": "markdown",
   "metadata": {
    "slideshow": {
     "slide_type": "slide"
    }
   },
   "source": [
    "## Motor device class\n",
    "\n",
    "```python\n",
    ">>> from epics import Motor\n",
    ">>> motor_x = Motor('SR00ID00USR00:MOT8')\n",
    ">>> motor_x.moving\n",
    "0\n",
    ">>> motor_x.readback\n",
    "10.5\n",
    ">>> motor_x.slew_speed = 100\n",
    ">>> motor_x.move(123, wait=True)\n",
    "0\n",
    "```"
   ]
  },
  {
   "cell_type": "markdown",
   "metadata": {
    "slideshow": {
     "slide_type": "slide"
    }
   },
   "source": [
    "# Advanced Topics"
   ]
  },
  {
   "cell_type": "markdown",
   "metadata": {
    "slideshow": {
     "slide_type": "-"
    }
   },
   "source": [
    "## Getting many PVs"
   ]
  },
  {
   "cell_type": "code",
   "execution_count": null,
   "metadata": {
    "collapsed": false,
    "slideshow": {
     "slide_type": "fragment"
    }
   },
   "outputs": [],
   "source": [
    "names = ['PYEPICS_DEMO:VAL{:02d}'.format(n)\n",
    "         for n in range(100)]\n",
    "print(names[:5])"
   ]
  },
  {
   "cell_type": "code",
   "execution_count": null,
   "metadata": {
    "collapsed": false,
    "slideshow": {
     "slide_type": "fragment"
    }
   },
   "outputs": [],
   "source": [
    "%%time\n",
    "epics.ca.clear_cache()\n",
    "\n",
    "values = []\n",
    "for name in names:\n",
    "    values.append(epics.PV(name).get())\n",
    "print('TOTAL:', sum(values))"
   ]
  },
  {
   "cell_type": "code",
   "execution_count": null,
   "metadata": {
    "collapsed": false,
    "slideshow": {
     "slide_type": "fragment"
    }
   },
   "outputs": [],
   "source": [
    "%%time\n",
    "epics.ca.clear_cache()\n",
    "\n",
    "values = epics.caget_many(names)\n",
    "print('TOTAL:', sum(values))"
   ]
  },
  {
   "cell_type": "markdown",
   "metadata": {},
   "source": [
    "# &nbsp;\n",
    "# &nbsp;\n",
    "# &nbsp;\n",
    "# &nbsp;\n",
    "# &nbsp;\n",
    "# &nbsp;\n",
    "# &nbsp;"
   ]
  },
  {
   "cell_type": "markdown",
   "metadata": {
    "slideshow": {
     "slide_type": "slide"
    }
   },
   "source": [
    "## Handling large arrays"
   ]
  },
  {
   "cell_type": "markdown",
   "metadata": {},
   "source": [
    "Avoid setting up unnecessary monitors:\n",
    "\n",
    "```python\n",
    ">>> name = '03ID:SAMPLE:image1:ArrayData'\n",
    ">>> data_pv = epics.PV(name,\n",
    "...                    auto_monitor=False)\n",
    ">>> image = data_pv.get()\n",
    "```"
   ]
  },
  {
   "cell_type": "markdown",
   "metadata": {
    "slideshow": {
     "slide_type": "slide"
    }
   },
   "source": [
    "# Other features\n",
    "\n",
    "* Alarm class http://pyepics.github.io/pyepics/alarm.html\n",
    "* wxPython Widgets http://pyepics.github.io/pyepics/wx.html\n",
    "* autosave http://pyepics.github.io/pyepics/autosave.html\n",
    "* PyEPICS Applications http://pyepics.github.io/epicsapps/"
   ]
  },
  {
   "cell_type": "markdown",
   "metadata": {
    "slideshow": {
     "slide_type": "slide"
    }
   },
   "source": [
    "# Final thoughts\n",
    "\n",
    "* Please ask questions and share experiences.\n",
    "* Documentation is very good:\n",
    "  https://pyepics.github.io/pyepics/\n",
    "* The PyEPICS code is very readable dive in at:\n",
    "  https://github.com/pyepics/pyepics\n",
    "* Don't be afraid to report bugs!"
   ]
  }
 ],
 "metadata": {
  "celltoolbar": "Slideshow",
  "kernelspec": {
   "display_name": "Python 3",
   "language": "python",
   "name": "python3"
  },
  "language_info": {
   "codemirror_mode": {
    "name": "ipython",
    "version": 3
   },
   "file_extension": ".py",
   "mimetype": "text/x-python",
   "name": "python",
   "nbconvert_exporter": "python",
   "pygments_lexer": "ipython3",
   "version": "3.5.1"
  },
  "widgets": {
   "state": {},
   "version": "1.1.1"
  }
 },
 "nbformat": 4,
 "nbformat_minor": 0
}
